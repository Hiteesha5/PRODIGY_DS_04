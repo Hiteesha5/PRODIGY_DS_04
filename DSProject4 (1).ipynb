{
  "nbformat": 4,
  "nbformat_minor": 0,
  "metadata": {
    "colab": {
      "provenance": []
    },
    "kernelspec": {
      "name": "python3",
      "display_name": "Python 3"
    },
    "language_info": {
      "name": "python"
    }
  },
  "cells": [
    {
      "cell_type": "code",
      "execution_count": null,
      "metadata": {
        "id": "Nd8xyrAh72Kh"
      },
      "outputs": [],
      "source": [
        "\n",
        "from google.colab import files\n",
        "import pandas as pd\n",
        "\n",
        "uploaded = files.upload()\n",
        "\n",
        "df = pd.read_csv(list(uploaded.keys())[0])\n",
        "df.head()"
      ]
    },
    {
      "cell_type": "code",
      "source": [
        "!pip install wordcloud\n",
        "\n",
        "import pandas as pd\n",
        "import matplotlib.pyplot as plt\n",
        "import seaborn as sns\n",
        "from wordcloud import WordCloud\n",
        "\n",
        "df.info()\n",
        "\n",
        "print(df['Sentiment'].value_counts())\n",
        "\n",
        "df.isnull().sum()"
      ],
      "metadata": {
        "id": "xuREQU7P8QW_"
      },
      "execution_count": null,
      "outputs": []
    },
    {
      "cell_type": "code",
      "source": [
        "plt.figure(figsize=(8, 6))\n",
        "sns.countplot(data = df, x='Sentiment', palette='Set2')\n",
        "plt.title('Sentiment Distribution')\n",
        "plt.xlabel('Sentiment')\n",
        "plt.ylabel('Number of Posts')\n",
        "plt.grid(axis='y', linestyle='--', alpha=0.5)\n",
        "plt.show()"
      ],
      "metadata": {
        "id": "d9lV6llBcJyu"
      },
      "execution_count": null,
      "outputs": []
    },
    {
      "cell_type": "code",
      "source": [
        "def generate_wordcloud(data, sentiment):\n",
        "  text= ''.join(data[data['Sentiment'] == sentiment]['Text'])\n",
        "  wordcloud = WordCloud(width=800, height=400, background_color='white').generate(text)\n",
        "\n",
        "  plt.figure(figsize=(10, 5))\n",
        "  plt.imshow(wordcloud, interpolation='bilinear')\n",
        "  plt.axis('off')\n",
        "  plt.title(f'Word Cloud for {sentiment} Sentiment')\n",
        "  plt.show()\n",
        "\n",
        "for s in df['Sentiment'].unique():\n",
        "  generate_wordcloud(df, s)"
      ],
      "metadata": {
        "id": "cNhmwhJZhRNJ"
      },
      "execution_count": null,
      "outputs": []
    },
    {
      "cell_type": "code",
      "source": [
        "df['TimeStamp']= pd.to_datetime(df['Timestamp'])\n",
        "df.set_index('TimeStamp', inplace=True)\n",
        "\n",
        "sentiment_trends = df.resample('M')['Sentiment'].value_counts().unstack().fillna(0)\n",
        "\n",
        "sentiment_trends.plot(figsize=(12, 6), marker ='o')\n",
        "plt.title('Monthly Sentiment Trend')\n",
        "plt.xlabel('Month')\n",
        "plt.ylabel('Number of Posts')\n",
        "plt.grid(axis='y', linestyle='--', alpha=0.5)\n",
        "plt.legend(title='Sentiment')\n",
        "plt.show()"
      ],
      "metadata": {
        "id": "TpMRb-3qn0hi"
      },
      "execution_count": null,
      "outputs": []
    },
    {
      "cell_type": "code",
      "source": [
        "plt.figure(figsize=(12, 6))\n",
        "\n",
        "df =df.reset_index()\n",
        "sns.countplot(data=df, y ='Country', hue='Sentiment', palette='coolwarm', order =df['Country'].value_counts().index[:10])\n",
        "plt.title('Sentiment by Country (Top 10)')\n",
        "plt.xlabel('Number of Posts')\n",
        "plt.ylabel('Country')\n",
        "plt.grid(axis='x', linestyle='--', alpha=0.5)\n",
        "plt.legend(title='Sentiment')\n",
        "plt.show()"
      ],
      "metadata": {
        "id": "yqPCZTMCxOPf"
      },
      "execution_count": null,
      "outputs": []
    },
    {
      "cell_type": "code",
      "source": [
        "plt.figure(figsize=(12, 6))\n",
        "sns.countplot(data=df, y='Country', hue='Sentiment', palette='pastel')\n",
        "plt.title('Sentiment Distribution across Platforms')\n",
        "plt.xlabel('Platforms')\n",
        "plt.ylabel('Count')\n",
        "plt.grid(axis='x', linestyle='--', alpha=0.5)\n",
        "plt.legend(title='Sentiment')\n",
        "plt.show()"
      ],
      "metadata": {
        "id": "7c8dN4OY0JIP"
      },
      "execution_count": null,
      "outputs": []
    },
    {
      "cell_type": "code",
      "source": [
        "engagement =df.groupby('Sentiment')[['Likes', 'Retweets']].mean().reset_index()\n",
        "\n",
        "engagement.plot(x='Sentiment', kind='bar', figsize=(10, 6), colormap= 'Accent')\n",
        "plt.title('Average likes and retweets by Sentiment')\n",
        "plt.ylabel('Average Count')\n",
        "plt.grid(axis='y', linestyle='--', alpha=0.5)\n",
        "plt.show()"
      ],
      "metadata": {
        "id": "zKX2sC6G1u_j"
      },
      "execution_count": null,
      "outputs": []
    },
    {
      "cell_type": "code",
      "source": [
        "from collections import Counter\n",
        "\n",
        "all_hastags=''.join(df['Hashtags'].dropna()).split()\n",
        "hashtag_counts = Counter(all_hastags)\n",
        "\n",
        "top_hastags = pd.DataFrame(hashtag_counts.most_common(10), columns=['Hashtag', 'Count'])\n",
        "\n",
        "plt.figure(figsize=(10, 6))\n",
        "sns.barplot(data=top_hastags, x='Count', y='Hashtag', palette='magma')\n",
        "plt.title('Top 10 Trending Hashtags')\n",
        "plt.xlabel('Count')\n",
        "plt.ylabel('Hashtag')\n",
        "plt.grid(axis='x', linestyle='--', alpha=0.5)\n",
        "plt.show()"
      ],
      "metadata": {
        "id": "xkBuNgVR3STM"
      },
      "execution_count": null,
      "outputs": []
    }
  ]
}